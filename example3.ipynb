{
 "cells": [
  {
   "cell_type": "markdown",
   "id": "acc3b426",
   "metadata": {},
   "source": [
    "# `gitermap` examples (3)\n",
    "\n",
    "In this notebook we will look at an advanced extension class which performs some extra work to ensure only unique iterations run. This is done via hashing of the input variables, and if repeats are found they are not executed."
   ]
  },
  {
   "cell_type": "markdown",
   "id": "6af76507",
   "metadata": {},
   "source": [
    "#### Version"
   ]
  },
  {
   "cell_type": "code",
   "execution_count": 104,
   "id": "66737c50",
   "metadata": {},
   "outputs": [
    {
     "data": {
      "text/plain": [
       "'0.1.0'"
      ]
     },
     "execution_count": 104,
     "metadata": {},
     "output_type": "execute_result"
    }
   ],
   "source": [
    "import gitermap\n",
    "gitermap.__version__"
   ]
  },
  {
   "cell_type": "code",
   "execution_count": 1,
   "id": "d04ca246",
   "metadata": {},
   "outputs": [],
   "source": [
    "from gitermap import MapContext, umap\n",
    "import itertools as it\n",
    "import time"
   ]
  },
  {
   "cell_type": "markdown",
   "id": "c6c3a1bd",
   "metadata": {},
   "source": [
    "Repeating the first basic example..."
   ]
  },
  {
   "cell_type": "code",
   "execution_count": 2,
   "id": "1db20fdc",
   "metadata": {},
   "outputs": [],
   "source": [
    "def f1(x):\n",
    "    time.sleep(0.5)\n",
    "    return x**2"
   ]
  },
  {
   "cell_type": "code",
   "execution_count": 3,
   "id": "c8677a49",
   "metadata": {},
   "outputs": [
    {
     "name": "stderr",
     "output_type": "stream",
     "text": [
      "100%|██████████| 10/10 [00:05<00:00,  1.96it/s]\n"
     ]
    },
    {
     "data": {
      "text/plain": [
       "[0, 1, 4, 9, 16, 25, 36, 49, 64, 81]"
      ]
     },
     "execution_count": 3,
     "metadata": {},
     "output_type": "execute_result"
    }
   ],
   "source": [
    "umap(f1, range(10))"
   ]
  },
  {
   "cell_type": "markdown",
   "id": "1f613ffc",
   "metadata": {},
   "source": [
    "## Introducing `UniqueMapContext`\n",
    "\n",
    "This class extends from `MapContext`, giving you all the functionality you want with `tqdm`, parallelisation and caching, except it will prevent duplicated parameter runs.\n",
    "\n",
    "This is particularly useful for preventing unnecessary re-runs, and is the beginning of a pseudo-indexing format where each element in a list-comprehension run essentially has it's own unique ID. \n",
    "\n",
    "Let's take the following example."
   ]
  },
  {
   "cell_type": "code",
   "execution_count": 4,
   "id": "0e02558a",
   "metadata": {},
   "outputs": [],
   "source": [
    "import warnings\n",
    "from functools import reduce\n",
    "import operator"
   ]
  },
  {
   "cell_type": "markdown",
   "id": "cc16e19d",
   "metadata": {},
   "source": [
    "Here we will create a `UniqueMapContext` object and compute a list comprehension with a few elements."
   ]
  },
  {
   "cell_type": "code",
   "execution_count": 84,
   "id": "56893893",
   "metadata": {},
   "outputs": [
    {
     "name": "stderr",
     "output_type": "stream",
     "text": [
      "100%|██████████| 3/3 [00:01<00:00,  1.97it/s]\n"
     ]
    },
    {
     "data": {
      "text/plain": [
       "[1, 9, 25]"
      ]
     },
     "execution_count": 84,
     "metadata": {},
     "output_type": "execute_result"
    }
   ],
   "source": [
    "ctx = UniqueMapContext()\n",
    "ctx.compute(f1, [1, 3, 5])"
   ]
  },
  {
   "cell_type": "markdown",
   "id": "d0c78124",
   "metadata": {},
   "source": [
    "The parameter values are stored in this hash set:"
   ]
  },
  {
   "cell_type": "code",
   "execution_count": 85,
   "id": "58a62d53",
   "metadata": {},
   "outputs": [
    {
     "data": {
      "text/plain": [
       "{-5907199003289078419, -1080395952817050184, 829895489864556342}"
      ]
     },
     "execution_count": 85,
     "metadata": {},
     "output_type": "execute_result"
    }
   ],
   "source": [
    "ctx._hash_cache"
   ]
  },
  {
   "cell_type": "markdown",
   "id": "f1e08b17",
   "metadata": {},
   "source": [
    "Under the hood, `UniqueMapContext` makes a hash representation of the input list, so it will recognise if the same parameters are fed to it in subsequent calls.\n",
    "\n",
    "Here if we re-compute, nothing is returned because they have already been computed."
   ]
  },
  {
   "cell_type": "code",
   "execution_count": 86,
   "id": "840776f6",
   "metadata": {},
   "outputs": [
    {
     "name": "stderr",
     "output_type": "stream",
     "text": [
      "100%|██████████| 3/3 [00:00<00:00, 2996.64it/s]\n"
     ]
    },
    {
     "data": {
      "text/plain": [
       "[None, None, None]"
      ]
     },
     "execution_count": 86,
     "metadata": {},
     "output_type": "execute_result"
    }
   ],
   "source": [
    "ctx.compute(f1, [1, 3, 5])"
   ]
  },
  {
   "cell_type": "markdown",
   "id": "130a768e",
   "metadata": {},
   "source": [
    "`UniqueMapContext` also automatically handles cases where there may be duplicate parameters within the same call. We explicitly drop Nones by using `filter_none=True`:"
   ]
  },
  {
   "cell_type": "code",
   "execution_count": 88,
   "id": "035e5fcb",
   "metadata": {},
   "outputs": [
    {
     "name": "stderr",
     "output_type": "stream",
     "text": [
      "100%|██████████| 3/3 [00:01<00:00,  2.96it/s]\n"
     ]
    },
    {
     "data": {
      "text/plain": [
       "[1, 25]"
      ]
     },
     "execution_count": 88,
     "metadata": {},
     "output_type": "execute_result"
    }
   ],
   "source": [
    "UniqueMapContext(filter_none=True).compute(f1, [1, 1, 5])"
   ]
  },
  {
   "cell_type": "markdown",
   "id": "4a838576",
   "metadata": {},
   "source": [
    "Also note, `UniqueMapContext` does not pre-compute the hash values, allowing for use of infinite lists or iterables which are added to the hash table Just-In-Time (JIT). "
   ]
  },
  {
   "cell_type": "code",
   "execution_count": 89,
   "id": "1cc7a706",
   "metadata": {},
   "outputs": [
    {
     "name": "stderr",
     "output_type": "stream",
     "text": [
      "5it [00:01,  3.25it/s]                       \n"
     ]
    },
    {
     "data": {
      "text/plain": [
       "[0, None, 4, None, 16]"
      ]
     },
     "execution_count": 89,
     "metadata": {},
     "output_type": "execute_result"
    }
   ],
   "source": [
    "ctx.compute(f1, it.islice(it.count(), 0, 5))"
   ]
  },
  {
   "cell_type": "markdown",
   "id": "1becbc77",
   "metadata": {},
   "source": [
    "We can also handle cases where multiple parameters are passed, rather than just one. This is achieved by 'stringifying' each element if possible, performing concatenation and then hashing the final result; as inconsistencies can crop up if each element is hashed individually and then added:"
   ]
  },
  {
   "cell_type": "code",
   "execution_count": 90,
   "id": "53473938",
   "metadata": {},
   "outputs": [],
   "source": [
    "def f2(x, y):\n",
    "    time.sleep(0.5)\n",
    "    return x**2 + y**2"
   ]
  },
  {
   "cell_type": "code",
   "execution_count": 91,
   "id": "0408274f",
   "metadata": {},
   "outputs": [
    {
     "name": "stderr",
     "output_type": "stream",
     "text": [
      "100%|██████████| 3/3 [00:01<00:00,  1.96it/s]\n"
     ]
    },
    {
     "data": {
      "text/plain": [
       "[5, 25, 61]"
      ]
     },
     "execution_count": 91,
     "metadata": {},
     "output_type": "execute_result"
    }
   ],
   "source": [
    "ctx2 = UniqueMapContext(filter_none=False)\n",
    "ctx2.compute(f2, [1, 3, 5], [2, 4, 6])"
   ]
  },
  {
   "cell_type": "markdown",
   "id": "d3a87aef",
   "metadata": {},
   "source": [
    "Now attempting repeat computation..."
   ]
  },
  {
   "cell_type": "code",
   "execution_count": 92,
   "id": "c9aeff96",
   "metadata": {},
   "outputs": [
    {
     "name": "stderr",
     "output_type": "stream",
     "text": [
      "100%|██████████| 3/3 [00:00<?, ?it/s]\n"
     ]
    },
    {
     "data": {
      "text/plain": [
       "[None, None, None]"
      ]
     },
     "execution_count": 92,
     "metadata": {},
     "output_type": "execute_result"
    }
   ],
   "source": [
    "ctx2.compute(f2, [1, 3, 5], [2, 4, 6])"
   ]
  },
  {
   "cell_type": "markdown",
   "id": "c19bea6f",
   "metadata": {},
   "source": [
    "### More complex example\n",
    "\n",
    "This may work well for simple objects, but if we return to `example2`, will it work for more complex objects?"
   ]
  },
  {
   "cell_type": "code",
   "execution_count": 93,
   "id": "f6aace5a",
   "metadata": {},
   "outputs": [
    {
     "data": {
      "text/plain": [
       "dict_keys(['data', 'target', 'feature_names', 'DESCR', 'filename'])"
      ]
     },
     "execution_count": 93,
     "metadata": {},
     "output_type": "execute_result"
    }
   ],
   "source": [
    "from sklearn.datasets import load_boston\n",
    "boston = load_boston()\n",
    "boston.keys()"
   ]
  },
  {
   "cell_type": "code",
   "execution_count": 94,
   "id": "52746166",
   "metadata": {},
   "outputs": [],
   "source": [
    "from sklearn.model_selection import cross_val_score\n",
    "from sklearn.preprocessing import scale\n",
    "from sklearn.linear_model import Ridge\n",
    "\n",
    "import numpy as np"
   ]
  },
  {
   "cell_type": "code",
   "execution_count": 95,
   "id": "09d71096",
   "metadata": {},
   "outputs": [],
   "source": [
    "def test_score(alpha, cv, X, y):\n",
    "    # preprocess X, y\n",
    "    X_new = scale(X)\n",
    "    return cross_val_score(Ridge(alpha), X_new, y, cv=cv, scoring=\"r2\")"
   ]
  },
  {
   "cell_type": "markdown",
   "id": "9d04cd21",
   "metadata": {},
   "source": [
    "Simple test..."
   ]
  },
  {
   "cell_type": "code",
   "execution_count": 96,
   "id": "75f5dc5f",
   "metadata": {},
   "outputs": [
    {
     "data": {
      "text/plain": [
       "array([ 0.64333037,  0.71683688,  0.58814318,  0.08214252, -0.22702517])"
      ]
     },
     "execution_count": 96,
     "metadata": {},
     "output_type": "execute_result"
    }
   ],
   "source": [
    "test_score(1., 5, boston.data, boston.target)"
   ]
  },
  {
   "cell_type": "markdown",
   "id": "1778e7e8",
   "metadata": {},
   "source": [
    "Now for finding the best $\\alpha$ as before, except with a `UniqueMapContext` object."
   ]
  },
  {
   "cell_type": "code",
   "execution_count": 100,
   "id": "08741b8b",
   "metadata": {},
   "outputs": [
    {
     "name": "stderr",
     "output_type": "stream",
     "text": [
      "100%|██████████| 50/50 [00:00<00:00, 53.67it/s]\n"
     ]
    }
   ],
   "source": [
    "alphas = np.linspace(-4., 5.5, 50)\n",
    "with UniqueMapContext(filter_none=True) as ctx1:\n",
    "    alpha1 = ctx1.compute(test_score, alphas, cv=5, X=boston.data, y=boston.target)"
   ]
  },
  {
   "cell_type": "markdown",
   "id": "2fb64462",
   "metadata": {},
   "source": [
    "As we can see a bunch of cache values have been created based on the alphas variable within the numpy array."
   ]
  },
  {
   "cell_type": "code",
   "execution_count": 101,
   "id": "58eb34e6",
   "metadata": {},
   "outputs": [
    {
     "data": {
      "text/plain": [
       "array({3640796605250424320, 8582013873942379647, 4185363145425555971, -9212667650027664242, -796614618200864115, -970730158473949170, -1724854889836662003, 2769429073849820431, -5958354412401878383, 4751731169373952146, -8518525571303823591, -6986906522839265766, -1602496587683899106, -747029755900037345, -2763193489603180127, -8183156502946042078, 8225711593259415837, 6009838678572839713, 6654423652127154338, -488803356001614681, 3456741540624322599, -4608082354363308375, 1718533815024643751, -5879546307033266514, 1731702642152020013, 6604239913841015341, -8647439265574675275, 5373195172001057201, 7404460542217592623, 8967114733100054838, 579423344652318779, 7709594867032831041, -24917617203115193, 8863760601631744331, -1682203351306608178, 6669021080371333839, -6837740234565313580, 315766718079107413, 5480592956131337301, -8070814405452750115, -8211390189641821729, -1591772869852481187, -5249611260693451165, -244246109208971933, -8705009027257791642, -1757981256186294934, -5579318763920245009, -7385532787641992969, -6327769522625819528, -1776276360036308102},\n",
       "      dtype=object)"
      ]
     },
     "execution_count": 101,
     "metadata": {},
     "output_type": "execute_result"
    }
   ],
   "source": [
    "np.asarray(ctx1._hash_cache)"
   ]
  },
  {
   "cell_type": "markdown",
   "id": "8231a1ed",
   "metadata": {},
   "source": [
    "Re-running blocks computation:"
   ]
  },
  {
   "cell_type": "code",
   "execution_count": 102,
   "id": "ebd3b8a4",
   "metadata": {},
   "outputs": [
    {
     "name": "stderr",
     "output_type": "stream",
     "text": [
      "100%|██████████| 50/50 [00:00<?, ?it/s]\n"
     ]
    },
    {
     "data": {
      "text/plain": [
       "[]"
      ]
     },
     "execution_count": 102,
     "metadata": {},
     "output_type": "execute_result"
    }
   ],
   "source": [
    "ctx1.compute(test_score, alphas, cv=5, X=boston.data, y=boston.target)"
   ]
  },
  {
   "cell_type": "markdown",
   "id": "9135ce8c",
   "metadata": {},
   "source": [
    "Note that only the `*args` parameter is checked for crossovers - we perform no checking on fixed keyword arguments and assume they do not change between calls to `compute()`. Obviously in practice this could change but changable parameters should always be `*args` within this library such that they are factored in as an iterable part of the list comprehension.\n",
    "\n",
    "Here we have a duplicate `alpha` value, and an additional uncomputed value: Here the uncomputed value is computed and we ignore the other alpha:"
   ]
  },
  {
   "cell_type": "code",
   "execution_count": 103,
   "id": "08f3ffd7",
   "metadata": {},
   "outputs": [
    {
     "name": "stderr",
     "output_type": "stream",
     "text": [
      "100%|██████████| 2/2 [00:00<00:00, 92.09it/s]\n"
     ]
    },
    {
     "data": {
      "text/plain": [
       "[array([ 0.64531348,  0.7182381 ,  0.58865436,  0.08358385, -0.21505711])]"
      ]
     },
     "execution_count": 103,
     "metadata": {},
     "output_type": "execute_result"
    }
   ],
   "source": [
    "ctx1.compute(test_score, [1.5, alphas[0]], cv=5, X=boston.data, y=boston.target)"
   ]
  },
  {
   "cell_type": "markdown",
   "id": "3ed4a759",
   "metadata": {},
   "source": [
    "### Limitations\n",
    "\n",
    "There are a number of limiting factors at play when it comes to using this extension:\n",
    "\n",
    "1. There may be issues when it comes to stringing floating numbers and inherent precision problems. This could lead to slightly different string results which lead to different hash.\n",
    "2. Size limits with very large $N$ can be quite inefficient."
   ]
  }
 ],
 "metadata": {
  "kernelspec": {
   "display_name": "Python 3",
   "language": "python",
   "name": "python3"
  },
  "language_info": {
   "codemirror_mode": {
    "name": "ipython",
    "version": 3
   },
   "file_extension": ".py",
   "mimetype": "text/x-python",
   "name": "python",
   "nbconvert_exporter": "python",
   "pygments_lexer": "ipython3",
   "version": "3.9.4"
  }
 },
 "nbformat": 4,
 "nbformat_minor": 5
}

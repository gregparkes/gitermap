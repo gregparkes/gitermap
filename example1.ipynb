{
 "cells": [
  {
   "cell_type": "markdown",
   "id": "2fa6042c-20cf-4fb2-8505-f8c61020074c",
   "metadata": {},
   "source": [
    "# `gitermap` examples (1)\n",
    "\n",
    "In this notebooks we will covered a vast range of examples to use with `gitermap`. Most of these examples will be simple to cover uage. In the next example notebook will deploy some more complex examples using `sklearn` for example machine learning with this module.\n",
    "\n",
    "### Example 1\n",
    "\n",
    "Basic `map()`."
   ]
  },
  {
   "cell_type": "code",
   "execution_count": 1,
   "id": "bf5f6c9b-8143-4a59-be4e-3bd346cd7111",
   "metadata": {},
   "outputs": [],
   "source": [
    "from gitermap import umap"
   ]
  },
  {
   "cell_type": "code",
   "execution_count": 2,
   "id": "6685dc25-a1bf-41a1-99d9-aca0b218b7eb",
   "metadata": {},
   "outputs": [
    {
     "name": "stderr",
     "output_type": "stream",
     "text": [
      "100%|██████████| 10/10 [00:00<?, ?it/s]\n"
     ]
    },
    {
     "data": {
      "text/plain": [
       "[0, 1, 4, 9, 16, 25, 36, 49, 64, 81]"
      ]
     },
     "execution_count": 2,
     "metadata": {},
     "output_type": "execute_result"
    }
   ],
   "source": [
    "umap(lambda x: x**2, range(10))"
   ]
  },
  {
   "cell_type": "markdown",
   "id": "b32e12fa-99fe-40f7-b48c-44ce6933b182",
   "metadata": {},
   "source": [
    "### Example 2\n",
    "\n",
    "A longer example that allows viewers to see the progressbar update given sleep commands."
   ]
  },
  {
   "cell_type": "code",
   "execution_count": 3,
   "id": "0293f83f-6dfb-415d-8717-15f04294b7e5",
   "metadata": {},
   "outputs": [],
   "source": [
    "import time"
   ]
  },
  {
   "cell_type": "code",
   "execution_count": 4,
   "id": "b28dc445-d734-4969-8808-e82663527fb3",
   "metadata": {},
   "outputs": [],
   "source": [
    "def long_f(x):\n",
    "    time.sleep(0.5)\n",
    "    return x**2"
   ]
  },
  {
   "cell_type": "code",
   "execution_count": 5,
   "id": "d6941c0d-775c-4f2d-8b50-01899d459062",
   "metadata": {},
   "outputs": [
    {
     "name": "stderr",
     "output_type": "stream",
     "text": [
      "100%|██████████| 5/5 [00:02<00:00,  1.92it/s]\n"
     ]
    },
    {
     "data": {
      "text/plain": [
       "[0, 1, 4, 9, 16]"
      ]
     },
     "execution_count": 5,
     "metadata": {},
     "output_type": "execute_result"
    }
   ],
   "source": [
    "umap(long_f, range(5))"
   ]
  },
  {
   "cell_type": "markdown",
   "id": "a9129db9-d063-441f-877a-5f818f7a5c9b",
   "metadata": {},
   "source": [
    "### Example 3: Parallel\n",
    "\n",
    "Easy parallelization with another letter. By default the number of cores selected $C$ will either be the maximum your machine provides $C=m-1$, or if $k<m$ iterations, then $C=k$."
   ]
  },
  {
   "cell_type": "code",
   "execution_count": 6,
   "id": "8f90915e-6ea8-407b-bf2f-9d414071ff9a",
   "metadata": {},
   "outputs": [],
   "source": [
    "from gitermap import umapp"
   ]
  },
  {
   "cell_type": "code",
   "execution_count": 7,
   "id": "f636698d-de0a-4965-aaee-e93f32969404",
   "metadata": {},
   "outputs": [
    {
     "data": {
      "application/vnd.jupyter.widget-view+json": {
       "model_id": "b22c8851910f486585fab7064d170eaa",
       "version_major": 2,
       "version_minor": 0
      },
      "text/plain": [
       "  0%|          | 0/50 [00:00<?, ?it/s]"
      ]
     },
     "metadata": {},
     "output_type": "display_data"
    }
   ],
   "source": [
    "_ = umapp(long_f, range(50))"
   ]
  },
  {
   "cell_type": "code",
   "execution_count": 8,
   "id": "2cb63372-f965-41b3-8d73-cd1054d18d99",
   "metadata": {},
   "outputs": [],
   "source": [
    "def abit_more_complex(x, y, special):\n",
    "    return (x+y)*special"
   ]
  },
  {
   "cell_type": "code",
   "execution_count": 9,
   "id": "41cf3d5b-0a65-4941-be8f-388e6862da84",
   "metadata": {},
   "outputs": [
    {
     "data": {
      "application/vnd.jupyter.widget-view+json": {
       "model_id": "4b439683f6954d599a8786d6a660a50c",
       "version_major": 2,
       "version_minor": 0
      },
      "text/plain": [
       "  0%|          | 0/10 [00:00<?, ?it/s]"
      ]
     },
     "metadata": {},
     "output_type": "display_data"
    }
   ],
   "source": [
    "from functools import partial\n",
    "import numpy as np\n",
    "\n",
    "my_special_func = partial(abit_more_complex, special=1.5)\n",
    "x = np.random.randn(10)\n",
    "y = np.random.rand(10)\n",
    "\n",
    "_ = umapp(my_special_func, x, y)"
   ]
  },
  {
   "cell_type": "markdown",
   "id": "b873d06a-be21-427c-a018-e633586da4a0",
   "metadata": {},
   "source": [
    "### Example 4: Caching"
   ]
  },
  {
   "cell_type": "code",
   "execution_count": 10,
   "id": "357825f0-91b3-43d7-a4be-b4d0da37f5c6",
   "metadata": {},
   "outputs": [],
   "source": [
    "from gitermap import umapc, umapcc\n",
    "_ = umapc(\"examples/example4.pkl\", my_special_func, x, y)"
   ]
  },
  {
   "cell_type": "markdown",
   "id": "e3434e8a-3a7a-47b5-aa4d-6716fff169dc",
   "metadata": {},
   "source": [
    "Second run..."
   ]
  },
  {
   "cell_type": "code",
   "execution_count": 11,
   "id": "098bf046-811a-4652-91c3-02889f5101d1",
   "metadata": {},
   "outputs": [],
   "source": [
    "_ = umapc(\"examples/example4.pkl\", my_special_func, x, y)"
   ]
  },
  {
   "cell_type": "markdown",
   "id": "1d7d956d-8da1-42b7-8e17-eb0b7059162d",
   "metadata": {},
   "source": [
    "#### Example 4.5: Caching with step-chunks\n",
    "\n",
    "Here a folder called `tmp_umapcc_` is created with each number stored in a separate file - a bit overkill for this simple example but incredibly useful if the return value is more complex, and takes a long time to compute. The folder is deleted if and only if the final file writes to disk, meaning that if your code breaks part of the way through a run, re-running the function will pick up where you left off by reading in all of the chunks up and until the crashpoint."
   ]
  },
  {
   "cell_type": "code",
   "execution_count": 16,
   "id": "73b59ad2-b18f-403a-a53e-86a823bed5ed",
   "metadata": {},
   "outputs": [],
   "source": [
    "_ = umapcc(\"examples/example4-5.pkl\", long_f, range(20))"
   ]
  },
  {
   "cell_type": "markdown",
   "id": "832986f8-48ad-424c-a4df-8854b8d9dccf",
   "metadata": {},
   "source": [
    "### Example 5: Context\n",
    "\n",
    "`MapContext` basically allows similar things to the raw functions, except you have much more control over the entire pipeline, including verbosity, parallelism, chunking, and more. \n",
    "\n",
    "Options include:\n",
    "- verbose : level of verbosity.\n",
    "- n_jobs : number of cores\n",
    "- chunks : whether to use chunking \n",
    "- return_type : whether to compute and return as a list or produce a generator (only works for umap)\n",
    "- savemode : whether to only run once, override or add-on to the cache file, see examples.\n",
    "\n",
    "Processing is done through the `compute` function:"
   ]
  },
  {
   "cell_type": "code",
   "execution_count": 17,
   "id": "9cea0f19-eebb-4229-b8c9-ab93ca155278",
   "metadata": {},
   "outputs": [],
   "source": [
    "from gitermap import MapContext"
   ]
  },
  {
   "cell_type": "markdown",
   "id": "1ac60657-6644-4699-84a8-3cfaf25a78d4",
   "metadata": {},
   "source": [
    "The same as `umap`"
   ]
  },
  {
   "cell_type": "code",
   "execution_count": 18,
   "id": "48005d91-dcf0-49bc-ba57-46edf8d4faa6",
   "metadata": {},
   "outputs": [
    {
     "name": "stderr",
     "output_type": "stream",
     "text": [
      "100%|██████████| 10/10 [00:00<00:00, 10012.66it/s]\n"
     ]
    }
   ],
   "source": [
    "with MapContext() as ctx1:\n",
    "    ctx1.compute(my_special_func, x, y)"
   ]
  },
  {
   "cell_type": "markdown",
   "id": "6c86bc09-a518-427d-8c2d-4a2f709c617e",
   "metadata": {},
   "source": [
    "`umapp` with Parallel n_jobs=-1, and verbosity."
   ]
  },
  {
   "cell_type": "code",
   "execution_count": 19,
   "id": "4d0af712-f250-4d35-8e51-491695cb1e35",
   "metadata": {},
   "outputs": [],
   "source": [
    "def long_f2(x, y):\n",
    "    time.sleep(0.5)\n",
    "    return x**2+y**2"
   ]
  },
  {
   "cell_type": "code",
   "execution_count": 20,
   "id": "0ab5b6fb-2c12-4ac8-8558-431a37430f41",
   "metadata": {},
   "outputs": [
    {
     "data": {
      "application/vnd.jupyter.widget-view+json": {
       "model_id": "ff121b3feb4445a3897dd8f58d26a981",
       "version_major": 2,
       "version_minor": 0
      },
      "text/plain": [
       "  0%|          | 0/50 [00:00<?, ?it/s]"
      ]
     },
     "metadata": {},
     "output_type": "display_data"
    }
   ],
   "source": [
    "with MapContext(verbose=1, n_jobs=-1) as ctx2:\n",
    "    data = ctx2.compute(long_f2, range(50), range(50))"
   ]
  },
  {
   "cell_type": "markdown",
   "id": "c784d7c8-b4ff-40fd-86e7-eb065e61a1fa",
   "metadata": {},
   "source": [
    "`umapc` example"
   ]
  },
  {
   "cell_type": "code",
   "execution_count": 22,
   "id": "96b8350e-29d8-4db4-b0dc-be8bc34f89d0",
   "metadata": {},
   "outputs": [
    {
     "name": "stdout",
     "output_type": "stream",
     "text": [
      "loading from file 'examples/example5.pkl'\n"
     ]
    }
   ],
   "source": [
    "with MapContext(\"examples/example5.pkl\", verbose=1) as ctx3:\n",
    "    data = ctx3.compute(my_special_func, x, y)"
   ]
  },
  {
   "cell_type": "code",
   "execution_count": 23,
   "id": "f8b4d85e-6939-4b74-8b21-b0c901e66206",
   "metadata": {},
   "outputs": [
    {
     "name": "stderr",
     "output_type": "stream",
     "text": [
      "100%|██████████| 10/10 [00:05<00:00,  1.96it/s]\n"
     ]
    },
    {
     "data": {
      "text/plain": [
       "[0, 1, 4, 9, 16, 25, 36, 49, 64, 81]"
      ]
     },
     "execution_count": 23,
     "metadata": {},
     "output_type": "execute_result"
    }
   ],
   "source": [
    "MapContext().compute(long_f, range(10))"
   ]
  },
  {
   "cell_type": "markdown",
   "id": "fe0e63e8-4b96-4e8a-8cac-99cc8106b80b",
   "metadata": {},
   "source": [
    "### Example 6: Contexts with keyword arguments\n",
    "\n",
    "You can make use of `functools.partial` to pass in your keyword arguments to custom function `f`: alternatively just use `compute` passing in keyword arguments, which we wrap for you.\n",
    "\n",
    "So we could use `abit_more_complex` with compute instead, passing in `special` as a keyword argument."
   ]
  },
  {
   "cell_type": "code",
   "execution_count": 24,
   "id": "a52df031-112c-4b27-920d-63edd951d9a3",
   "metadata": {},
   "outputs": [
    {
     "name": "stderr",
     "output_type": "stream",
     "text": [
      "100%|██████████| 10/10 [00:00<00:00, 10012.66it/s]\n"
     ]
    }
   ],
   "source": [
    "_ = MapContext().compute(abit_more_complex, x, y, special=1.5)"
   ]
  },
  {
   "cell_type": "markdown",
   "id": "a9075790-6be2-4983-82a4-e8b6d9a7a061",
   "metadata": {},
   "source": [
    "#### Example 6.5: Returning a generator\n",
    "\n",
    "Instead of getting the list back, we may wish to not compute the steps and return a generator. This could be useful if you wish to couple a `gitermap` execution pipeline with a custom one, or you are using large files and don't wish to load it in at once."
   ]
  },
  {
   "cell_type": "code",
   "execution_count": 26,
   "id": "1054462f-a891-49e4-80ed-182af66009ad",
   "metadata": {},
   "outputs": [],
   "source": [
    "gen1 = MapContext(return_type=\"generator\").compute(long_f, range(10))"
   ]
  },
  {
   "cell_type": "code",
   "execution_count": 28,
   "id": "db6accd5-6b9d-4c2f-be12-2573fd4720b2",
   "metadata": {},
   "outputs": [
    {
     "data": {
      "text/plain": [
       "[0, 1, 4, 9, 16, 25, 36, 49, 64, 81]"
      ]
     },
     "execution_count": 28,
     "metadata": {},
     "output_type": "execute_result"
    }
   ],
   "source": [
    "list(gen1)"
   ]
  },
  {
   "cell_type": "markdown",
   "id": "93cc129c-a9a9-4274-9534-67ca652db241",
   "metadata": {},
   "source": [
    "### Example 7: Changing the save mode type.\n",
    "\n",
    "This determines how end-caching works over multiple runs. You can choose from:\n",
    "\n",
    "- `initial`: Saves at the end, then reloads the saved data thereafter\n",
    "- `override`: Saves every time its run, deleting previous version\n",
    "- `add`: Saves every time its run, concatenating results to previous version\n",
    "\n",
    "The last option is particularly useful when sampling random numbers within probabilistic frameworks. `example2` will have an example on this."
   ]
  },
  {
   "cell_type": "code",
   "execution_count": 29,
   "id": "ef0b96fc-4253-49ae-af3d-9b38659dccbe",
   "metadata": {},
   "outputs": [],
   "source": [
    "ctx4 = MapContext(\"examples/example7.pkl\", n_jobs=-1, savemode=\"add\")"
   ]
  },
  {
   "cell_type": "code",
   "execution_count": 30,
   "id": "eefb05f6-2b4b-4005-a65f-f48ce03f83c3",
   "metadata": {},
   "outputs": [
    {
     "data": {
      "application/vnd.jupyter.widget-view+json": {
       "model_id": "cde0b48ce97843b492892362e409dbfc",
       "version_major": 2,
       "version_minor": 0
      },
      "text/plain": [
       "  0%|          | 0/10 [00:00<?, ?it/s]"
      ]
     },
     "metadata": {},
     "output_type": "display_data"
    }
   ],
   "source": [
    "data =ctx4.compute(long_f, range(10))"
   ]
  },
  {
   "cell_type": "code",
   "execution_count": 31,
   "id": "3ad49a35-2a77-44c1-ae0b-9616b7311233",
   "metadata": {},
   "outputs": [
    {
     "data": {
      "application/vnd.jupyter.widget-view+json": {
       "model_id": "d7b295524f584fb5a0c244b31084007e",
       "version_major": 2,
       "version_minor": 0
      },
      "text/plain": [
       "  0%|          | 0/20 [00:00<?, ?it/s]"
      ]
     },
     "metadata": {},
     "output_type": "display_data"
    }
   ],
   "source": [
    "data = ctx4.compute(long_f, range(20))"
   ]
  },
  {
   "cell_type": "code",
   "execution_count": 32,
   "id": "cbe319b0-17e8-48ba-9b88-60c3e73b8281",
   "metadata": {},
   "outputs": [
    {
     "data": {
      "text/plain": [
       "30"
      ]
     },
     "execution_count": 32,
     "metadata": {},
     "output_type": "execute_result"
    }
   ],
   "source": [
    "len(data)"
   ]
  },
  {
   "cell_type": "markdown",
   "id": "630eeaa7-2904-409a-a14d-d60d31cc0bcf",
   "metadata": {},
   "source": [
    "#### Example 7.5: Clearing the cached file"
   ]
  },
  {
   "cell_type": "code",
   "execution_count": 33,
   "id": "819a701d-9a7b-4239-880e-a46b5cf0429b",
   "metadata": {},
   "outputs": [],
   "source": [
    "ctx4.clear()"
   ]
  },
  {
   "cell_type": "markdown",
   "id": "c4e0ff3b-3de6-47f2-aa06-c28fc7d0e40f",
   "metadata": {},
   "source": [
    "### Example 8: Sound!\n",
    "\n",
    "If you have `simpleaudio` and `numpy` installed, you can play sounds at the end of a run: a happy or not so happy arpeggio!"
   ]
  },
  {
   "cell_type": "code",
   "execution_count": 34,
   "id": "f83c5150-ad6a-4082-8f55-9ae567d2652e",
   "metadata": {},
   "outputs": [],
   "source": [
    "#!pip install simpleaudio"
   ]
  },
  {
   "cell_type": "code",
   "execution_count": 35,
   "id": "1816a2cb-3d60-482b-87b9-5744a7e85dec",
   "metadata": {},
   "outputs": [
    {
     "name": "stdout",
     "output_type": "stream",
     "text": [
      "True\n"
     ]
    },
    {
     "data": {
      "application/vnd.jupyter.widget-view+json": {
       "model_id": "f7ad800346a045a89c69d52bed60c2d9",
       "version_major": 2,
       "version_minor": 0
      },
      "text/plain": [
       "  0%|          | 0/30 [00:00<?, ?it/s]"
      ]
     },
     "metadata": {},
     "output_type": "display_data"
    }
   ],
   "source": [
    "with MapContext(n_jobs=-1, end_audio=True) as ctx5:\n",
    "    print(ctx5.end_audio)\n",
    "    _ = ctx5.compute(long_f, range(30))"
   ]
  },
  {
   "cell_type": "markdown",
   "id": "7347f786-8113-4213-8cee-ebc160f4689a",
   "metadata": {},
   "source": [
    "### Example 9: Iterables\n",
    "\n",
    "We also handle the case where iterables are passed to the list comprehension, but the major drawback is that because there is no access to the `__len__` attribute, `tqdm` does not indicate how many iterations are remaining, and hence ETA."
   ]
  },
  {
   "cell_type": "code",
   "execution_count": 36,
   "id": "011740a0-adf5-4e8f-995a-2b11bfe3c831",
   "metadata": {},
   "outputs": [],
   "source": [
    "import itertools as it"
   ]
  },
  {
   "cell_type": "code",
   "execution_count": 37,
   "id": "fd2d7fa5-8d3d-4aef-8f8c-4bb2156dd50f",
   "metadata": {},
   "outputs": [
    {
     "name": "stderr",
     "output_type": "stream",
     "text": [
      "10it [00:05,  1.96it/s]\n"
     ]
    }
   ],
   "source": [
    "_ = umap(long_f, it.islice(it.count(), 0, 10))"
   ]
  },
  {
   "cell_type": "markdown",
   "id": "e7554581-61dd-4a17-899b-1b8507949779",
   "metadata": {},
   "source": [
    "However, if **any** of the arguments is not an iterable, and estimate of the number of runs can be sampled. This is because the `range()` object exposes the `__len__` attribute to use, and we assume that the number of arguments passed for each arg is the same length."
   ]
  },
  {
   "cell_type": "code",
   "execution_count": 38,
   "id": "bf6a83e1-b8d3-4703-93e8-4aa4cf69d162",
   "metadata": {},
   "outputs": [
    {
     "name": "stderr",
     "output_type": "stream",
     "text": [
      "100%|██████████| 10/10 [00:05<00:00,  1.96it/s]\n"
     ]
    }
   ],
   "source": [
    "_ = umap(long_f2, it.islice(it.count(), 0, 10), range(10))"
   ]
  },
  {
   "cell_type": "markdown",
   "id": "e22a0e0a-f84f-4c91-823e-08ac6cf39717",
   "metadata": {},
   "source": [
    "Hopefully you enjoyed some of these small examples."
   ]
  },
  {
   "cell_type": "markdown",
   "id": "aa4c35bc-79b3-4e44-b31e-34254a659d6f",
   "metadata": {},
   "source": [
    "### Example 10: More cache-by-chunks"
   ]
  },
  {
   "cell_type": "code",
   "execution_count": 40,
   "id": "4d36bdee-39df-4ba9-bd1c-b0012f54d6e1",
   "metadata": {},
   "outputs": [],
   "source": [
    "with MapContext(\"examples/example10.pkl\", chunks=True) as ctx6:\n",
    "    d10 = ctx6.compute(long_f, range(10))"
   ]
  },
  {
   "cell_type": "code",
   "execution_count": null,
   "id": "c66c4528-862b-4416-8007-fff963f91854",
   "metadata": {},
   "outputs": [],
   "source": []
  }
 ],
 "metadata": {
  "kernelspec": {
   "display_name": "Python 3",
   "language": "python",
   "name": "python3"
  },
  "language_info": {
   "codemirror_mode": {
    "name": "ipython",
    "version": 3
   },
   "file_extension": ".py",
   "mimetype": "text/x-python",
   "name": "python",
   "nbconvert_exporter": "python",
   "pygments_lexer": "ipython3",
   "version": "3.9.4"
  }
 },
 "nbformat": 4,
 "nbformat_minor": 5
}

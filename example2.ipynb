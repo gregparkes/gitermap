{
 "cells": [
  {
   "cell_type": "markdown",
   "id": "9ff5c7f0-2057-4097-a9d4-659d237df227",
   "metadata": {},
   "source": [
    "# `gitermap` examples (2)\n",
    "\n",
    "In this notebook we will cover some more detailed examples using `scikit-learn` to iteratively fit models. Here we will use the Boston dataset and hyperparameter tune using `gitermap` to find the best $\\alpha$ regularization parameter.\n",
    "\n",
    "**Note**: For this example you will need `matplotlib`, `numpy` and `scikit-learn` installed."
   ]
  },
  {
   "cell_type": "code",
   "execution_count": 1,
   "id": "7bff4883-b832-4216-8150-c80a7551b10f",
   "metadata": {},
   "outputs": [],
   "source": [
    "from gitermap import MapContext\n",
    "\n",
    "import numpy as np\n",
    "import matplotlib.pyplot as plt\n",
    "%matplotlib inline\n",
    "\n",
    "from sklearn.model_selection import cross_val_score\n",
    "from sklearn.preprocessing import scale\n",
    "from sklearn.linear_model import Ridge\n",
    "from sklearn.datasets import load_boston"
   ]
  },
  {
   "cell_type": "markdown",
   "id": "24334847-433b-4b0d-bec0-afdb73e69bbe",
   "metadata": {},
   "source": [
    "Load the data."
   ]
  },
  {
   "cell_type": "code",
   "execution_count": 2,
   "id": "b05f8fbb-e67c-4d8c-b1e7-c94dced42f89",
   "metadata": {},
   "outputs": [],
   "source": [
    "boston = load_boston()"
   ]
  },
  {
   "cell_type": "code",
   "execution_count": 3,
   "id": "949741ce-1917-477f-b38e-6cc18ee415ff",
   "metadata": {},
   "outputs": [
    {
     "data": {
      "text/plain": [
       "dict_keys(['data', 'target', 'feature_names', 'DESCR', 'filename'])"
      ]
     },
     "execution_count": 3,
     "metadata": {},
     "output_type": "execute_result"
    }
   ],
   "source": [
    "boston.keys()"
   ]
  },
  {
   "cell_type": "markdown",
   "id": "9e8bd935-b9e1-40cc-ae8e-69a8c52bce59",
   "metadata": {},
   "source": [
    "Constructing a function that computes the test scores across multiple cross validations, for a given alpha."
   ]
  },
  {
   "cell_type": "code",
   "execution_count": 59,
   "id": "7ad5ca1d-304c-4ff3-9b5f-50c73ff94986",
   "metadata": {},
   "outputs": [],
   "source": [
    "def compute_test_score(alpha, X, y, cv):\n",
    "    # preprocess X, y\n",
    "    X_new = scale(X)\n",
    "    return cross_val_score(Ridge(alpha), X_new, y, cv=cv, scoring=\"r2\")"
   ]
  },
  {
   "cell_type": "markdown",
   "id": "dd027738-56bd-4ee0-bc75-1bde51815bb0",
   "metadata": {},
   "source": [
    "Test the example (to see it works!)"
   ]
  },
  {
   "cell_type": "code",
   "execution_count": 51,
   "id": "f9221fb0-30d4-43ac-9733-080efb2acc62",
   "metadata": {},
   "outputs": [
    {
     "data": {
      "text/plain": [
       "array([ 0.64333037,  0.71683688,  0.58814318,  0.08214252, -0.22702517])"
      ]
     },
     "execution_count": 51,
     "metadata": {},
     "output_type": "execute_result"
    }
   ],
   "source": [
    "compute_test_score(1., boston.data, boston.target, 5)"
   ]
  },
  {
   "cell_type": "markdown",
   "id": "6005196f-ee37-481e-90fd-46d4e063b112",
   "metadata": {},
   "source": [
    "### Computing over $\\alpha$ with `gitermap`.\n",
    "\n",
    "Note that we compute once and save the result, so re-running merely loads the data in from file."
   ]
  },
  {
   "cell_type": "code",
   "execution_count": 52,
   "id": "14b18da9-2bc3-4399-ae02-e89d25edc595",
   "metadata": {},
   "outputs": [
    {
     "name": "stderr",
     "output_type": "stream",
     "text": [
      "100%|██████████| 50/50 [00:01<00:00, 46.34it/s]\n"
     ]
    }
   ],
   "source": [
    "a_samples = np.linspace(-4., 5.5, 50)\n",
    "with MapContext(verbose=1) as ctx1:\n",
    "    alpha1 = ctx1.compute(compute_test_score, a_samples, X=boston.data, y=boston.target, cv=5)"
   ]
  },
  {
   "cell_type": "markdown",
   "id": "81a2fe27-d809-4aba-841d-271ef4899350",
   "metadata": {},
   "source": [
    "Now for plotting the results.\n",
    "\n",
    "Note that we concatenate the results, calculate the mean and then clip between 0 and 1 to avoid certain spurious samples which give negative $r^2$."
   ]
  },
  {
   "cell_type": "code",
   "execution_count": 53,
   "id": "1bfe1299-edf6-468d-9b2a-c4d14c982ca1",
   "metadata": {},
   "outputs": [],
   "source": [
    "clean_alpha1 = np.vstack((alpha1))"
   ]
  },
  {
   "cell_type": "code",
   "execution_count": 54,
   "id": "64cf5cef-a657-48f6-aa83-3dfea8fcd23f",
   "metadata": {},
   "outputs": [
    {
     "data": {
      "text/plain": [
       "Text(0.5, 1.0, 'Boston dataset over $\\\\alpha$ with $r^2 \\\\pm$SD')"
      ]
     },
     "execution_count": 54,
     "metadata": {},
     "output_type": "execute_result"
    },
    {
     "data": {
      "image/png": "[encoded data removed]",
      "text/plain": [
       "<Figure size 432x288 with 1 Axes>"
      ]
     },
     "metadata": {
      "needs_background": "light"
     },
     "output_type": "display_data"
    }
   ],
   "source": [
    "plt.plot(a_samples, clean_alpha1.mean(1), 'd-')\n",
    "plt.fill_between(a_samples, np.clip(clean_alpha1.mean(1) + clean_alpha1.std(1), 0, 1),\n",
    "                 np.clip(clean_alpha1.mean(1) - clean_alpha1.std(1), 0, 1), alpha=.2)\n",
    "plt.xlabel(r\"$\\alpha$\")\n",
    "plt.ylabel(r\"$r^2$\")\n",
    "plt.title(r\"Boston dataset over $\\alpha$ with $r^2 \\pm$SD\")"
   ]
  },
  {
   "cell_type": "markdown",
   "id": "81990678-ea09-4254-bb1f-900b2296336d",
   "metadata": {},
   "source": [
    "But why limit ourselves to $\\alpha$? We could choose to parameterize over the cross-validation split also. To do this, we can use the `itertools.product` method to combine together `a_samples` and some cross-validation metrics.\n",
    "\n",
    "Rather annoyingly, we must write a new function, combine together alpha and cv into a `params` argument, and then unpack them inside the custom function."
   ]
  },
  {
   "cell_type": "code",
   "execution_count": 80,
   "id": "368f84b5-1d3a-4cd1-b77d-2412e3514011",
   "metadata": {},
   "outputs": [],
   "source": [
    "def compute_test_score2(params, X, y):\n",
    "    # preprocess X, y\n",
    "    alpha, cv = params\n",
    "    X_new = scale(X)\n",
    "    return cross_val_score(Ridge(alpha), X_new, y, cv=cv, scoring=\"r2\")"
   ]
  },
  {
   "cell_type": "code",
   "execution_count": 68,
   "id": "23699d9c-f768-44ba-8f92-3ef81ee826c5",
   "metadata": {},
   "outputs": [],
   "source": [
    "import itertools as it"
   ]
  },
  {
   "cell_type": "code",
   "execution_count": 93,
   "id": "596433f3-4b34-49df-bc70-2b06db308033",
   "metadata": {},
   "outputs": [
    {
     "name": "stderr",
     "output_type": "stream",
     "text": [
      "150it [00:03, 49.76it/s]             \n"
     ]
    }
   ],
   "source": [
    "with MapContext(verbose=1) as ctx2:\n",
    "    alpha2 = ctx1.compute(compute_test_score2, it.product(a_samples, [3, 5, 10]), X=boston.data, y=boston.target)"
   ]
  },
  {
   "cell_type": "code",
   "execution_count": 111,
   "id": "59654c51-57a0-476c-8571-ad3ac7ac0f27",
   "metadata": {},
   "outputs": [
    {
     "data": {
      "image/png": "[encoded data removed]",
      "text/plain": [
       "<Figure size 432x288 with 1 Axes>"
      ]
     },
     "metadata": {
      "needs_background": "light"
     },
     "output_type": "display_data"
    }
   ],
   "source": [
    "plt.plot(a_samples, np.clip(np.vstack(alpha2[::3]).mean(1), 0, 1), 'd-', label=\"cv=3\")\n",
    "plt.plot(a_samples, np.vstack(alpha2[1::3]).mean(1), 'o-', label=\"cv=5\")\n",
    "plt.plot(a_samples, np.vstack(alpha2[2::3]).mean(1), 'x-', label=\"cv=10\")\n",
    "plt.xlabel(r\"$\\alpha$\")\n",
    "plt.ylabel(r\"$r^2$\")\n",
    "plt.title(r\"Boston dataset over $\\alpha$, cv with $r^2 \\pm$SD\")\n",
    "plt.legend()\n",
    "plt.show()"
   ]
  },
  {
   "cell_type": "markdown",
   "id": "1fcdbcc1-1abd-4018-b74d-91c9deb8cfdc",
   "metadata": {},
   "source": [
    "Here we see a massive variance over cross-validations: it would be better to get $K$ repeats for each cv to more properly model the variance here."
   ]
  },
  {
   "cell_type": "code",
   "execution_count": 94,
   "id": "0238e787-fddf-41f0-b346-a3cd5482630d",
   "metadata": {},
   "outputs": [],
   "source": [
    "from sklearn.model_selection import RepeatedKFold"
   ]
  },
  {
   "cell_type": "code",
   "execution_count": 97,
   "id": "37438470-8369-423e-a8a8-fbf4ceb80e08",
   "metadata": {},
   "outputs": [
    {
     "name": "stderr",
     "output_type": "stream",
     "text": [
      "100it [00:08, 11.51it/s]\n"
     ]
    }
   ],
   "source": [
    "with MapContext(verbose=1) as ctx3:\n",
    "    alpha3 = ctx3.compute(compute_test_score2, it.product(a_samples, [5, RepeatedKFold()]),\n",
    "                          X=boston.data, y=boston.target)"
   ]
  },
  {
   "cell_type": "code",
   "execution_count": 122,
   "id": "242cb3f3-1ffe-4b01-be61-c59590b6dd3a",
   "metadata": {},
   "outputs": [
    {
     "data": {
      "image/png": "[encoded data removed]",
      "text/plain": [
       "<Figure size 432x288 with 1 Axes>"
      ]
     },
     "metadata": {
      "needs_background": "light"
     },
     "output_type": "display_data"
    }
   ],
   "source": [
    "a31_mean = np.vstack(alpha3[::2]).mean(1)\n",
    "a31_sd = np.vstack(alpha3[::2]).std(1)\n",
    "a32_mean = np.vstack(alpha3[1::2]).mean(1)\n",
    "a32_sd = np.vstack(alpha3[1::2]).std(1)\n",
    "\n",
    "plt.plot(a_samples, a31_mean, 'd-', label=\"cv=5\")\n",
    "plt.fill_between(a_samples, np.clip(a31_mean + a31_sd, 0, 1),\n",
    "                 a31_mean - a31_sd, alpha=.4)\n",
    "plt.plot(a_samples, a32_mean, 'd-', label=\"cv=5, 10 repeats)\")\n",
    "plt.fill_between(a_samples, np.clip(a32_mean + a32_sd, 0, 1),\n",
    "                 a32_mean - a32_sd, alpha=.4)\n",
    "plt.xlabel(r\"$\\alpha$\")\n",
    "plt.ylabel(r\"$r^2$\")\n",
    "plt.title(r\"Boston dataset over $\\alpha$, cv with $r^2 \\pm$SD\")\n",
    "plt.legend()\n",
    "plt.show()"
   ]
  },
  {
   "cell_type": "markdown",
   "id": "5bc612d8-3a41-4c87-aa6d-22ed47ab0617",
   "metadata": {},
   "source": [
    "It is clear that there was a problem with splitting the domain, giving some scores very low (in the negatives). A repeated K-fold cross-validation approach helped to resolve this, give a better accuracy and significantly smaller variance. All helped by our methodology."
   ]
  }
 ],
 "metadata": {
  "kernelspec": {
   "display_name": "Python 3",
   "language": "python",
   "name": "python3"
  },
  "language_info": {
   "codemirror_mode": {
    "name": "ipython",
    "version": 3
   },
   "file_extension": ".py",
   "mimetype": "text/x-python",
   "name": "python",
   "nbconvert_exporter": "python",
   "pygments_lexer": "ipython3",
   "version": "3.9.4"
  }
 },
 "nbformat": 4,
 "nbformat_minor": 5
}
